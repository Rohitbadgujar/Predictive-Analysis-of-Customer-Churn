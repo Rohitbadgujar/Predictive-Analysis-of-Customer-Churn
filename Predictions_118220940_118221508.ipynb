{
 "cells": [
  {
   "cell_type": "code",
   "execution_count": 10,
   "metadata": {},
   "outputs": [
    {
     "name": "stdout",
     "output_type": "stream",
     "text": [
      "(4000, 20)\n",
      "(1000, 20)\n"
     ]
    }
   ],
   "source": [
    "import pandas as pd\n",
    "import numpy as np\n",
    "from sklearn.preprocessing import LabelEncoder\n",
    "import random\n",
    "import os\n",
    "\n",
    "#Reading test and train data into dataframe\n",
    "train_dataframe = pd.read_csv('churn-train.csv')\n",
    "test_dataframe = pd.read_csv('churn-holdout.csv')\n",
    "\n",
    "\n",
    "X_train = train_dataframe.iloc[:,:-1]\n",
    "y_train = train_dataframe['class']\n",
    "print(X_train.shape)\n",
    "\n",
    "X_test = test_dataframe\n",
    "print(X_test.shape)\n",
    "\n",
    "\n",
    "# Import the model we are using\n",
    "from sklearn.ensemble import RandomForestClassifier\n",
    "model_rf = RandomForestClassifier(n_estimators=60, random_state=1,max_depth=15) \n",
    "model_rf.fit(X_train, y_train);\n",
    "\n",
    "#Predicting the class churn\n",
    "y_pred = model_rf.predict(X_test)\n",
    "\n",
    "#Generating the probabilities \n",
    "prob = model_rf.predict_proba(X_test)\n",
    "\n",
    "#Rounding the value of y_pred to 0/1\n",
    "y_pred=pd.Series(y_pred.round().astype(int))\n",
    "\n",
    "\n",
    "#Create data frame to save the results\n",
    "prob_rfc = pd.DataFrame(prob, columns=model_rf.classes_)\n",
    "identifier = X_test.phone_number\n",
    "prob_rfc['Predictions'] = y_pred\n",
    "prob_rfc['Phone Number'] = identifier\n",
    "\n",
    "#Rearrange the order of column in the result file.\n",
    "prob_rfc = prob_rfc[['Phone Number', 'Predictions', 0, 1]]\n",
    "\n",
    "#Remove file if already exist \n",
    "if os.path.exists(\"predictions_118220940_118221508.csv\"):\n",
    "  os.remove(\"predictions_118220940_118221508.csv\")\n",
    "\n",
    "#Generate csv file for results\n",
    "prob_rfc.to_csv(os.path.join('Predictions_118220940_118221508.csv'), index=False)"
   ]
  },
  {
   "cell_type": "code",
   "execution_count": null,
   "metadata": {},
   "outputs": [],
   "source": []
  },
  {
   "cell_type": "code",
   "execution_count": null,
   "metadata": {},
   "outputs": [],
   "source": []
  },
  {
   "cell_type": "code",
   "execution_count": null,
   "metadata": {},
   "outputs": [],
   "source": []
  }
 ],
 "metadata": {
  "kernelspec": {
   "display_name": "Python 3",
   "language": "python",
   "name": "python3"
  },
  "language_info": {
   "codemirror_mode": {
    "name": "ipython",
    "version": 3
   },
   "file_extension": ".py",
   "mimetype": "text/x-python",
   "name": "python",
   "nbconvert_exporter": "python",
   "pygments_lexer": "ipython3",
   "version": "3.7.1"
  }
 },
 "nbformat": 4,
 "nbformat_minor": 2
}
